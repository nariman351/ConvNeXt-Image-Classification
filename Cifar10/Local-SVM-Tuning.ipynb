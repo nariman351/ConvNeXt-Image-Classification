{
 "cells": [
  {
   "cell_type": "code",
   "execution_count": 1,
   "id": "d6bc7748",
   "metadata": {},
   "outputs": [],
   "source": [
    "model_type = 'SVM'\n",
    "from sklearn.svm import SVC"
   ]
  },
  {
   "cell_type": "code",
   "execution_count": 2,
   "id": "a184fe18",
   "metadata": {},
   "outputs": [],
   "source": [
    "import os\n",
    "import json\n",
    "import torch\n",
    "import torch.nn as nn\n",
    "import torch.nn.functional as F\n",
    "import torchvision\n",
    "import torchvision.transforms as transforms\n",
    "import matplotlib.pyplot as plt\n",
    "import numpy as np\n",
    "import seaborn as sns\n",
    "import pandas as pd\n",
    "\n",
    "import ray\n",
    "from ray import tune\n",
    "from ray.tune.schedulers import HyperBandForBOHB\n",
    "from ray.tune.suggest.bohb import TuneBOHB\n",
    "import ConfigSpace as CS\n",
    "from functools import partial\n",
    "\n",
    "from sklearn.metrics import accuracy_score, classification_report, confusion_matrix\n",
    "from joblib import dump, load"
   ]
  },
  {
   "cell_type": "code",
   "execution_count": 3,
   "id": "decb467b",
   "metadata": {},
   "outputs": [],
   "source": [
    "# Device configuration\n",
    "device = torch.device('cpu')\n",
    "classes = ['Airplane', 'Car', 'Bird', 'Cat', 'Deer', 'Dog', 'Frog', 'Horse', 'Ship', 'Truck']"
   ]
  },
  {
   "cell_type": "code",
   "execution_count": 5,
   "id": "e2eb792a",
   "metadata": {},
   "outputs": [],
   "source": [
    "def model_eval(features, labels, model, dataset):\n",
    "    actual_classes = labels\n",
    "    predicted_classes = model.predict(features)\n",
    "    \n",
    "    #since labels are read in based on ordering in the folder, \n",
    "    #this corrects the labels so they reflect the correct classes\n",
    "    #############################################################\n",
    "    if dataset == 'gen':\n",
    "        labels_dict = {\n",
    "            0:3,\n",
    "            1:5,\n",
    "            2:7,\n",
    "            3:8\n",
    "        }\n",
    "        for index, item in enumerate(actual_classes):\n",
    "            actual_classes[index] = labels_dict[item]\n",
    "    #############################################################\n",
    "    \n",
    "    performance_report = classification_report(\n",
    "                        actual_classes, \n",
    "                        predicted_classes, \n",
    "                        labels=list(range(0,10)), \n",
    "                        target_names=classes, \n",
    "                        output_dict=True\n",
    "                        )\n",
    "\n",
    "    with open(f'performance_report_{dataset}.json', 'w') as f:\n",
    "        json.dump(performance_report, f, indent=0)\n",
    "\n",
    "    overall_accuracy = accuracy_score(actual_classes, predicted_classes)\n",
    "\n",
    "    comparison_list = [['Actual', 'Predicted']]\n",
    "\n",
    "    for i in range(0,len(actual_classes)):\n",
    "        comparison_list.append([actual_classes[i], predicted_classes[i]])\n",
    "    np.savetxt(f'class_pred_{dataset}.csv', comparison_list, delimiter=',', fmt='%s')\n",
    "    \n",
    "    labeled_actual = []\n",
    "    labeled_predicted = []\n",
    "    for index, item in enumerate(actual_classes):\n",
    "        labeled_actual.append(classes[actual_classes[index]])\n",
    "        labeled_predicted.append(classes[predicted_classes[index]])\n",
    "        \n",
    "    plt.clf()\n",
    "    c_matrix = confusion_matrix(labeled_actual, labeled_predicted)\n",
    "    c_df = pd.DataFrame(c_matrix, index=classes, columns=classes)\n",
    "    plt.figure(figsize=(13,13))\n",
    "    sns.heatmap(c_df, annot=True, fmt='g')\n",
    "    plt.title('Confusion Matrix')\n",
    "    plt.ylabel('Actual Class')\n",
    "    plt.xlabel('Predicted Class')\n",
    "    plt.savefig(f'labeled_confusion_matrix_{dataset}.png', bbox_inches='tight')\n",
    "    plt.show()\n",
    "    \n",
    "    return overall_accuracy"
   ]
  },
  {
   "cell_type": "code",
   "execution_count": 7,
   "id": "eee85ebc",
   "metadata": {},
   "outputs": [],
   "source": [
    "def train_SVM(config, checkpoint_dir=None):\n",
    "    xtrain = torch.load('C:/Users/s_kal/Desktop/9039-ML/Final Project/Code/train_extracted_features.pt',map_location=torch.device('cpu'))\n",
    "    ytrain = torch.load('C:/Users/s_kal/Desktop/9039-ML/Final Project/Code/train_extracted_labels.pt',map_location=torch.device('cpu'))\n",
    "    xtest = torch.load('C:/Users/s_kal/Desktop/9039-ML/Final Project/Code/val_extracted_features.pt',map_location=torch.device('cpu'))\n",
    "    ytest = torch.load('C:/Users/s_kal/Desktop/9039-ML/Final Project/Code/val_extracted_labels.pt',map_location=torch.device('cpu'))\n",
    "    \n",
    "#     For initial tuning:\n",
    "    model = SVC(C=config['C'], gamma=config['g'], tol=config['tol'])\n",
    "    model.fit(xtrain, ytrain)\n",
    "    \n",
    "#     For learning curve of best model:\n",
    "#     plt.clf()\n",
    "#     plot_learning_curves(xtrain, ytrain, xtest, ytest, model)\n",
    "#     plt.savefig('learning_curve.png')\n",
    "    \n",
    "    dump(model, f'model_{model_type}.joblib') \n",
    "            \n",
    "    train_acc =  model_eval(xtrain, ytrain, model, 'train')\n",
    "    val_acc = model_eval(xtest, ytest, model, 'val')\n",
    "    \n",
    "    tune.report(\n",
    "        train_ACC=train_acc,\n",
    "        val_ACC=val_acc,\n",
    "    )"
   ]
  },
  {
   "cell_type": "code",
   "execution_count": 8,
   "id": "45a71c4e",
   "metadata": {},
   "outputs": [],
   "source": [
    "# obtaining scale for hyperparameter tuning\n",
    "xtrain = torch.load('C:/Users/s_kal/Desktop/9039-ML/Final Project/Code/train_extracted_features.pt',map_location=torch.device('cpu'))\n",
    "scale = 1/(len(xtrain[0])*np.array(xtrain).var())"
   ]
  },
  {
   "cell_type": "code",
   "execution_count": 9,
   "id": "5cb407e1",
   "metadata": {},
   "outputs": [],
   "source": [
    "def main(num_samples=15):\n",
    "    config = {\n",
    "        'C':tune.choice([1e-2, 1e-1, 1, 1e1, 1e2]),\n",
    "        'g':tune.choice([scale/10, scale, scale*10]),\n",
    "        'tol':tune.choice([1e-4, 1e-3, 1e-2])\n",
    "    }\n",
    "            \n",
    "    algo=TuneBOHB(metric='train_ACC', \n",
    "                  mode='max'\n",
    "                 )\n",
    "    \n",
    "    bohb = HyperBandForBOHB(time_attr=\"training_iteration\",\n",
    "                            metric=\"train_ACC\",\n",
    "                            mode=\"max\",\n",
    "                            max_t=1\n",
    "                           )\n",
    "        \n",
    "    result = tune.run(\n",
    "        tune.with_parameters(train_SVM),\n",
    "        resources_per_trial={\"cpu\": 8, \"gpu\": 0},\n",
    "        config=config,\n",
    "        num_samples=num_samples,\n",
    "        scheduler=bohb,\n",
    "        search_alg=algo,\n",
    "        progress_reporter=tune.JupyterNotebookReporter(overwrite=True, print_intermediate_tables=True),\n",
    "        fail_fast=False, \n",
    "        sync_config=tune.SyncConfig(\n",
    "        syncer=None  # Disable syncing\n",
    "        )\n",
    "    )\n",
    "    \n",
    "    result.results_df.to_csv(f'results_df_{model_type}_rbf.csv')\n",
    "    return result\n",
    "# BOHB - https://arxiv.org/abs/1807.01774\n",
    "# https://docs.ray.io/en/latest/tune/api_docs/schedulers.html#tune-scheduler-bohb"
   ]
  },
  {
   "cell_type": "code",
   "execution_count": 10,
   "id": "8cbfcbd9",
   "metadata": {
    "scrolled": true
   },
   "outputs": [
    {
     "data": {
      "text/html": [
       "== Status ==<br>Current time: 2022-07-22 01:55:14 (running for 02:42:36.05)<br>Memory usage on this node: 10.2/15.7 GiB<br>Using HyperBand: num_stopped=0 total_brackets=15\n",
       "Round #0:\n",
       "  Bracket(Max Size (n)=1, Milestone (r)=1, completed=100.0%): {TERMINATED: 1} \n",
       "Round #1:\n",
       "  Bracket(Max Size (n)=1, Milestone (r)=1, completed=100.0%): {TERMINATED: 1} \n",
       "Round #2:\n",
       "  Bracket(Max Size (n)=1, Milestone (r)=1, completed=100.0%): {TERMINATED: 1} \n",
       "Round #3:\n",
       "  Bracket(Max Size (n)=1, Milestone (r)=1, completed=100.0%): {TERMINATED: 1} \n",
       "Round #4:\n",
       "  Bracket(Max Size (n)=1, Milestone (r)=1, completed=100.0%): {TERMINATED: 1} \n",
       "Round #5:\n",
       "  Bracket(Max Size (n)=1, Milestone (r)=1, completed=100.0%): {TERMINATED: 1} \n",
       "Round #6:\n",
       "  Bracket(Max Size (n)=1, Milestone (r)=1, completed=100.0%): {TERMINATED: 1} \n",
       "Round #7:\n",
       "  Bracket(Max Size (n)=1, Milestone (r)=1, completed=100.0%): {TERMINATED: 1} \n",
       "Round #8:\n",
       "  Bracket(Max Size (n)=1, Milestone (r)=1, completed=100.0%): {TERMINATED: 1} \n",
       "Round #9:\n",
       "  Bracket(Max Size (n)=1, Milestone (r)=1, completed=100.0%): {TERMINATED: 1} \n",
       "Round #10:\n",
       "  Bracket(Max Size (n)=1, Milestone (r)=1, completed=100.0%): {TERMINATED: 1} \n",
       "Round #11:\n",
       "  Bracket(Max Size (n)=1, Milestone (r)=1, completed=100.0%): {TERMINATED: 1} \n",
       "Round #12:\n",
       "  Bracket(Max Size (n)=1, Milestone (r)=1, completed=100.0%): {TERMINATED: 1} \n",
       "Round #13:\n",
       "  Bracket(Max Size (n)=1, Milestone (r)=1, completed=100.0%): {TERMINATED: 1} \n",
       "Round #14:\n",
       "  Bracket(Max Size (n)=1, Milestone (r)=1, completed=100.0%): {TERMINATED: 1} <br>Resources requested: 0/8 CPUs, 0/1 GPUs, 0.0/3.37 GiB heap, 0.0/1.68 GiB objects<br>Result logdir: C:\\Users\\s_kal\\ray_results\\train_SVM_2022-07-21_23-12-38<br>Number of trials: 15/15 (15 TERMINATED)<br><table>\n",
       "<thead>\n",
       "<tr><th>Trial name        </th><th>status    </th><th>loc            </th><th style=\"text-align: right;\">     C</th><th style=\"text-align: right;\">          g</th><th style=\"text-align: right;\">   tol</th><th style=\"text-align: right;\">  iter</th><th style=\"text-align: right;\">  total time (s)</th><th style=\"text-align: right;\">  train_ACC</th><th style=\"text-align: right;\">  val_ACC</th></tr>\n",
       "</thead>\n",
       "<tbody>\n",
       "<tr><td>train_SVM_24303f52</td><td>TERMINATED</td><td>127.0.0.1:17428</td><td style=\"text-align: right;\">  0.1 </td><td style=\"text-align: right;\">0.00658728 </td><td style=\"text-align: right;\">0.001 </td><td style=\"text-align: right;\">     1</td><td style=\"text-align: right;\">        193.637 </td><td style=\"text-align: right;\">   0.998311</td><td style=\"text-align: right;\">   0.9996</td></tr>\n",
       "<tr><td>train_SVM_244b2d88</td><td>TERMINATED</td><td>127.0.0.1:7224 </td><td style=\"text-align: right;\">  0.01</td><td style=\"text-align: right;\">0.00658728 </td><td style=\"text-align: right;\">0.01  </td><td style=\"text-align: right;\">     1</td><td style=\"text-align: right;\">        567.459 </td><td style=\"text-align: right;\">   0.9966  </td><td style=\"text-align: right;\">   0.999 </td></tr>\n",
       "<tr><td>train_SVM_9a68e026</td><td>TERMINATED</td><td>127.0.0.1:17824</td><td style=\"text-align: right;\">  1   </td><td style=\"text-align: right;\">0.00658728 </td><td style=\"text-align: right;\">0.01  </td><td style=\"text-align: right;\">     1</td><td style=\"text-align: right;\">        100.584 </td><td style=\"text-align: right;\">   0.999689</td><td style=\"text-align: right;\">   0.9994</td></tr>\n",
       "<tr><td>train_SVM_ef4922c9</td><td>TERMINATED</td><td>127.0.0.1:20024</td><td style=\"text-align: right;\"> 10   </td><td style=\"text-align: right;\">0.000658728</td><td style=\"text-align: right;\">0.001 </td><td style=\"text-align: right;\">     1</td><td style=\"text-align: right;\">         54.5925</td><td style=\"text-align: right;\">   0.999578</td><td style=\"text-align: right;\">   0.9992</td></tr>\n",
       "<tr><td>train_SVM_2deecbd8</td><td>TERMINATED</td><td>127.0.0.1:13076</td><td style=\"text-align: right;\">  0.1 </td><td style=\"text-align: right;\">0.00658728 </td><td style=\"text-align: right;\">0.0001</td><td style=\"text-align: right;\">     1</td><td style=\"text-align: right;\">        185.323 </td><td style=\"text-align: right;\">   0.998311</td><td style=\"text-align: right;\">   0.9996</td></tr>\n",
       "<tr><td>train_SVM_50da02f5</td><td>TERMINATED</td><td>127.0.0.1:9932 </td><td style=\"text-align: right;\">100   </td><td style=\"text-align: right;\">0.00658728 </td><td style=\"text-align: right;\">0.0001</td><td style=\"text-align: right;\">     1</td><td style=\"text-align: right;\">        106.197 </td><td style=\"text-align: right;\">   1       </td><td style=\"text-align: right;\">   0.9996</td></tr>\n",
       "<tr><td>train_SVM_c207144d</td><td>TERMINATED</td><td>127.0.0.1:15708</td><td style=\"text-align: right;\">  0.1 </td><td style=\"text-align: right;\">0.00658728 </td><td style=\"text-align: right;\">0.01  </td><td style=\"text-align: right;\">     1</td><td style=\"text-align: right;\">        185.4   </td><td style=\"text-align: right;\">   0.998311</td><td style=\"text-align: right;\">   0.9996</td></tr>\n",
       "<tr><td>train_SVM_043c81fd</td><td>TERMINATED</td><td>127.0.0.1:2704 </td><td style=\"text-align: right;\">  0.01</td><td style=\"text-align: right;\">0.000658728</td><td style=\"text-align: right;\">0.001 </td><td style=\"text-align: right;\">     1</td><td style=\"text-align: right;\">       1155.71  </td><td style=\"text-align: right;\">   0.996733</td><td style=\"text-align: right;\">   0.9994</td></tr>\n",
       "<tr><td>train_SVM_755a8ed2</td><td>TERMINATED</td><td>127.0.0.1:21260</td><td style=\"text-align: right;\"> 10   </td><td style=\"text-align: right;\">0.000658728</td><td style=\"text-align: right;\">0.001 </td><td style=\"text-align: right;\">     1</td><td style=\"text-align: right;\">         56.3212</td><td style=\"text-align: right;\">   0.999578</td><td style=\"text-align: right;\">   0.9992</td></tr>\n",
       "<tr><td>train_SVM_29328cd9</td><td>TERMINATED</td><td>127.0.0.1:14624</td><td style=\"text-align: right;\">  1   </td><td style=\"text-align: right;\">0.000658728</td><td style=\"text-align: right;\">0.01  </td><td style=\"text-align: right;\">     1</td><td style=\"text-align: right;\">        103.699 </td><td style=\"text-align: right;\">   0.9984  </td><td style=\"text-align: right;\">   0.9996</td></tr>\n",
       "<tr><td>train_SVM_4e00dcb8</td><td>TERMINATED</td><td>127.0.0.1:16544</td><td style=\"text-align: right;\">  0.1 </td><td style=\"text-align: right;\">0.000658728</td><td style=\"text-align: right;\">0.001 </td><td style=\"text-align: right;\">     1</td><td style=\"text-align: right;\">        326.011 </td><td style=\"text-align: right;\">   0.997756</td><td style=\"text-align: right;\">   0.9994</td></tr>\n",
       "<tr><td>train_SVM_8eea6acf</td><td>TERMINATED</td><td>127.0.0.1:1544 </td><td style=\"text-align: right;\">  0.01</td><td style=\"text-align: right;\">0.0658728  </td><td style=\"text-align: right;\">0.0001</td><td style=\"text-align: right;\">     1</td><td style=\"text-align: right;\">       2421.2   </td><td style=\"text-align: right;\">   0.2208  </td><td style=\"text-align: right;\">   0.2114</td></tr>\n",
       "<tr><td>train_SVM_544a8335</td><td>TERMINATED</td><td>127.0.0.1:16472</td><td style=\"text-align: right;\">100   </td><td style=\"text-align: right;\">0.0658728  </td><td style=\"text-align: right;\">0.01  </td><td style=\"text-align: right;\">     1</td><td style=\"text-align: right;\">       2255.45  </td><td style=\"text-align: right;\">   1       </td><td style=\"text-align: right;\">   0.7728</td></tr>\n",
       "<tr><td>train_SVM_fab30b3c</td><td>TERMINATED</td><td>127.0.0.1:14348</td><td style=\"text-align: right;\">  1   </td><td style=\"text-align: right;\">0.0658728  </td><td style=\"text-align: right;\">0.0001</td><td style=\"text-align: right;\">     1</td><td style=\"text-align: right;\">       1924.59  </td><td style=\"text-align: right;\">   1       </td><td style=\"text-align: right;\">   0.7536</td></tr>\n",
       "<tr><td>train_SVM_3e7e342b</td><td>TERMINATED</td><td>127.0.0.1:15332</td><td style=\"text-align: right;\">100   </td><td style=\"text-align: right;\">0.000658728</td><td style=\"text-align: right;\">0.01  </td><td style=\"text-align: right;\">     1</td><td style=\"text-align: right;\">         49.4654</td><td style=\"text-align: right;\">   1       </td><td style=\"text-align: right;\">   0.999 </td></tr>\n",
       "</tbody>\n",
       "</table><br><br>"
      ],
      "text/plain": [
       "<IPython.core.display.HTML object>"
      ]
     },
     "metadata": {},
     "output_type": "display_data"
    },
    {
     "name": "stderr",
     "output_type": "stream",
     "text": [
      "2022-07-22 01:55:14,819\tINFO tune.py:639 -- Total run time: 9756.24 seconds (9756.04 seconds for the tuning loop).\n"
     ]
    },
    {
     "name": "stdout",
     "output_type": "stream",
     "text": [
      "\u001b[2m\u001b[36m(train_SVM\r",
      " pid=15332)\u001b[0m Figure(640x480)\r\n",
      "\u001b[2m\u001b[36m(train_SVM\r",
      " pid=15332)\u001b[0m Figure(1300x1300)\r\n"
     ]
    },
    {
     "name": "stderr",
     "output_type": "stream",
     "text": [
      "C:\\Users\\s_kal\\anaconda3\\lib\\site-packages\\ray\\tune\\analysis\\experiment_analysis.py:281: UserWarning: Dataframes will use '/' instead of '.' to delimit nested result keys in future versions of Ray. For forward compatibility, set the environment variable TUNE_RESULT_DELIM='/'\n",
      "  warnings.warn(\n"
     ]
    }
   ],
   "source": [
    "result_rbf = main()"
   ]
  },
  {
   "cell_type": "markdown",
   "id": "b5f952ae",
   "metadata": {},
   "source": [
    "BOHB Example: https://docs.ray.io/en/latest/tune/examples/includes/bohb_example.html"
   ]
  }
 ],
 "metadata": {
  "kernelspec": {
   "display_name": "Python 3 (ipykernel)",
   "language": "python",
   "name": "python3"
  },
  "language_info": {
   "codemirror_mode": {
    "name": "ipython",
    "version": 3
   },
   "file_extension": ".py",
   "mimetype": "text/x-python",
   "name": "python",
   "nbconvert_exporter": "python",
   "pygments_lexer": "ipython3",
   "version": "3.9.7"
  }
 },
 "nbformat": 4,
 "nbformat_minor": 5
}

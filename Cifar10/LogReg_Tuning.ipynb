{
  "cells": [
    {
      "cell_type": "code",
      "source": [
        "model_type = 'LogReg'\n",
        "from sklearn.linear_model import LogisticRegression\n",
        "data_dir = '/content/drive/MyDrive/ECE9039-Project/Code/ConvNext/Retrained/'\n",
        "tune_dir = '/content/drive/My Drive/ECE9039-Project/Code/Tune-Train/'\n",
        "classes = ['Airplane', 'Car', 'Bird', 'Cat', 'Deer', 'Dog', 'Frog', 'Horse', 'Ship', 'Truck']\n",
        "!pip install ray\n",
        "!pip install hpbandster ConfigSpace"
      ],
      "metadata": {
        "colab": {
          "base_uri": "https://localhost:8080/"
        },
        "id": "84xog-bDtWBb",
        "outputId": "8c1f6601-96a7-42b1-923c-dbb4c32198c9"
      },
      "id": "84xog-bDtWBb",
      "execution_count": null,
      "outputs": [
        {
          "output_type": "stream",
          "name": "stdout",
          "text": [
            "Looking in indexes: https://pypi.org/simple, https://us-python.pkg.dev/colab-wheels/public/simple/\n",
            "Requirement already satisfied: ray in /usr/local/lib/python3.7/dist-packages (1.13.0)\n",
            "Requirement already satisfied: click<=8.0.4,>=7.0 in /usr/local/lib/python3.7/dist-packages (from ray) (7.1.2)\n",
            "Requirement already satisfied: virtualenv in /usr/local/lib/python3.7/dist-packages (from ray) (20.15.1)\n",
            "Requirement already satisfied: pyyaml in /usr/local/lib/python3.7/dist-packages (from ray) (3.13)\n",
            "Requirement already satisfied: attrs in /usr/local/lib/python3.7/dist-packages (from ray) (21.4.0)\n",
            "Requirement already satisfied: msgpack<2.0.0,>=1.0.0 in /usr/local/lib/python3.7/dist-packages (from ray) (1.0.4)\n",
            "Requirement already satisfied: grpcio<=1.43.0,>=1.28.1 in /usr/local/lib/python3.7/dist-packages (from ray) (1.43.0)\n",
            "Requirement already satisfied: protobuf<4.0.0,>=3.15.3 in /usr/local/lib/python3.7/dist-packages (from ray) (3.17.3)\n",
            "Requirement already satisfied: requests in /usr/local/lib/python3.7/dist-packages (from ray) (2.23.0)\n",
            "Requirement already satisfied: jsonschema in /usr/local/lib/python3.7/dist-packages (from ray) (4.3.3)\n",
            "Requirement already satisfied: numpy>=1.16 in /usr/local/lib/python3.7/dist-packages (from ray) (1.21.6)\n",
            "Requirement already satisfied: frozenlist in /usr/local/lib/python3.7/dist-packages (from ray) (1.3.0)\n",
            "Requirement already satisfied: aiosignal in /usr/local/lib/python3.7/dist-packages (from ray) (1.2.0)\n",
            "Requirement already satisfied: filelock in /usr/local/lib/python3.7/dist-packages (from ray) (3.7.1)\n",
            "Requirement already satisfied: six>=1.5.2 in /usr/local/lib/python3.7/dist-packages (from grpcio<=1.43.0,>=1.28.1->ray) (1.15.0)\n",
            "Requirement already satisfied: importlib-resources>=1.4.0 in /usr/local/lib/python3.7/dist-packages (from jsonschema->ray) (5.8.0)\n",
            "Requirement already satisfied: pyrsistent!=0.17.0,!=0.17.1,!=0.17.2,>=0.14.0 in /usr/local/lib/python3.7/dist-packages (from jsonschema->ray) (0.18.1)\n",
            "Requirement already satisfied: importlib-metadata in /usr/local/lib/python3.7/dist-packages (from jsonschema->ray) (4.12.0)\n",
            "Requirement already satisfied: typing-extensions in /usr/local/lib/python3.7/dist-packages (from jsonschema->ray) (4.1.1)\n",
            "Requirement already satisfied: zipp>=3.1.0 in /usr/local/lib/python3.7/dist-packages (from importlib-resources>=1.4.0->jsonschema->ray) (3.8.1)\n",
            "Requirement already satisfied: certifi>=2017.4.17 in /usr/local/lib/python3.7/dist-packages (from requests->ray) (2022.6.15)\n",
            "Requirement already satisfied: urllib3!=1.25.0,!=1.25.1,<1.26,>=1.21.1 in /usr/local/lib/python3.7/dist-packages (from requests->ray) (1.24.3)\n",
            "Requirement already satisfied: chardet<4,>=3.0.2 in /usr/local/lib/python3.7/dist-packages (from requests->ray) (3.0.4)\n",
            "Requirement already satisfied: idna<3,>=2.5 in /usr/local/lib/python3.7/dist-packages (from requests->ray) (2.10)\n",
            "Requirement already satisfied: distlib<1,>=0.3.1 in /usr/local/lib/python3.7/dist-packages (from virtualenv->ray) (0.3.5)\n",
            "Requirement already satisfied: platformdirs<3,>=2 in /usr/local/lib/python3.7/dist-packages (from virtualenv->ray) (2.5.2)\n",
            "Looking in indexes: https://pypi.org/simple, https://us-python.pkg.dev/colab-wheels/public/simple/\n",
            "Requirement already satisfied: hpbandster in /usr/local/lib/python3.7/dist-packages (0.7.4)\n",
            "Requirement already satisfied: ConfigSpace in /usr/local/lib/python3.7/dist-packages (0.5.0)\n",
            "Requirement already satisfied: Pyro4 in /usr/local/lib/python3.7/dist-packages (from hpbandster) (4.82)\n",
            "Requirement already satisfied: statsmodels in /usr/local/lib/python3.7/dist-packages (from hpbandster) (0.10.2)\n",
            "Requirement already satisfied: serpent in /usr/local/lib/python3.7/dist-packages (from hpbandster) (1.41)\n",
            "Requirement already satisfied: scipy in /usr/local/lib/python3.7/dist-packages (from hpbandster) (1.7.3)\n",
            "Requirement already satisfied: numpy in /usr/local/lib/python3.7/dist-packages (from hpbandster) (1.21.6)\n",
            "Requirement already satisfied: netifaces in /usr/local/lib/python3.7/dist-packages (from hpbandster) (0.11.0)\n",
            "Requirement already satisfied: cython in /usr/local/lib/python3.7/dist-packages (from ConfigSpace) (0.29.30)\n",
            "Requirement already satisfied: pyparsing in /usr/local/lib/python3.7/dist-packages (from ConfigSpace) (3.0.9)\n",
            "Requirement already satisfied: patsy>=0.4.0 in /usr/local/lib/python3.7/dist-packages (from statsmodels->hpbandster) (0.5.2)\n",
            "Requirement already satisfied: pandas>=0.19 in /usr/local/lib/python3.7/dist-packages (from statsmodels->hpbandster) (1.3.5)\n",
            "Requirement already satisfied: python-dateutil>=2.7.3 in /usr/local/lib/python3.7/dist-packages (from pandas>=0.19->statsmodels->hpbandster) (2.8.2)\n",
            "Requirement already satisfied: pytz>=2017.3 in /usr/local/lib/python3.7/dist-packages (from pandas>=0.19->statsmodels->hpbandster) (2022.1)\n",
            "Requirement already satisfied: six in /usr/local/lib/python3.7/dist-packages (from patsy>=0.4.0->statsmodels->hpbandster) (1.15.0)\n"
          ]
        }
      ]
    },
    {
      "cell_type": "code",
      "execution_count": null,
      "id": "a184fe18",
      "metadata": {
        "id": "a184fe18",
        "colab": {
          "base_uri": "https://localhost:8080/"
        },
        "outputId": "3b904fbb-28cc-46bf-fd79-ce461d8e3953"
      },
      "outputs": [
        {
          "output_type": "stream",
          "name": "stderr",
          "text": [
            "/usr/local/lib/python3.7/dist-packages/statsmodels/tools/_testing.py:19: FutureWarning: pandas.util.testing is deprecated. Use the functions in the public API at pandas.testing instead.\n",
            "  import pandas.util.testing as tm\n"
          ]
        },
        {
          "output_type": "stream",
          "name": "stdout",
          "text": [
            "Drive already mounted at /content/drive; to attempt to forcibly remount, call drive.mount(\"/content/drive\", force_remount=True).\n"
          ]
        }
      ],
      "source": [
        "import os\n",
        "import json\n",
        "import torch\n",
        "import torch.nn as nn\n",
        "import torch.nn.functional as F\n",
        "import torchvision\n",
        "import torchvision.transforms as transforms\n",
        "import matplotlib.pyplot as plt\n",
        "import numpy as np\n",
        "import seaborn as sns\n",
        "import pandas as pd\n",
        "\n",
        "import ray\n",
        "from ray import tune\n",
        "from ray.tune.schedulers import HyperBandForBOHB\n",
        "from ray.tune.suggest.bohb import TuneBOHB\n",
        "import ConfigSpace as CS\n",
        "from functools import partial\n",
        "\n",
        "from sklearn.metrics import accuracy_score, classification_report, confusion_matrix\n",
        "from joblib import dump, load\n",
        "from google.colab import drive\n",
        "\n",
        "device = torch.device('cpu')\n",
        "drive.mount('/content/drive')"
      ]
    },
    {
      "cell_type": "code",
      "execution_count": null,
      "id": "576e75b4",
      "metadata": {
        "id": "576e75b4"
      },
      "outputs": [],
      "source": [
        "# @article{scikit-learn,\n",
        "#  title={Scikit-learn: Machine Learning in {P}ython},\n",
        "#  author={Pedregosa, F. and Varoquaux, G. and Gramfort, A. and Michel, V.\n",
        "#          and Thirion, B. and Grisel, O. and Blondel, M. and Prettenhofer, P.\n",
        "#          and Weiss, R. and Dubourg, V. and Vanderplas, J. and Passos, A. and\n",
        "#          Cournapeau, D. and Brucher, M. and Perrot, M. and Duchesnay, E.},\n",
        "#  journal={Journal of Machine Learning Research},\n",
        "#  volume={12},\n",
        "#  pages={2825--2830},\n",
        "#  year={2011}\n",
        "# }\n",
        "\n",
        "# @inproceedings{sklearn_api,\n",
        "#   author    = {Lars Buitinck and Gilles Louppe and Mathieu Blondel and\n",
        "#                Fabian Pedregosa and Andreas Mueller and Olivier Grisel and\n",
        "#                Vlad Niculae and Peter Prettenhofer and Alexandre Gramfort\n",
        "#                and Jaques Grobler and Robert Layton and Jake VanderPlas and\n",
        "#                Arnaud Joly and Brian Holt and Ga{\\\"{e}}l Varoquaux},\n",
        "#   title     = {{API} design for machine learning software: experiences from the scikit-learn\n",
        "#                project},\n",
        "#   booktitle = {ECML PKDD Workshop: Languages for Data Mining and Machine Learning},\n",
        "#   year      = {2013},\n",
        "#   pages = {108--122},\n",
        "# }\n",
        "\n",
        "def model_eval(features, labels, model, dataset):\n",
        "    actual_classes = labels\n",
        "    predicted_classes = model.predict(features)\n",
        "    \n",
        "    #since labels are read in based on ordering in the folder, \n",
        "    #this corrects the labels so they reflect the correct classes\n",
        "    #############################################################\n",
        "    if dataset == 'gen':\n",
        "        labels_dict = {\n",
        "            0:3,\n",
        "            1:5,\n",
        "            2:7,\n",
        "            3:8\n",
        "        }\n",
        "        for index, item in enumerate(actual_classes):\n",
        "            actual_classes[index] = labels_dict[item]\n",
        "    ############################################################\n",
        "    \n",
        "    performance_report = classification_report(\n",
        "                        actual_classes, \n",
        "                        predicted_classes, \n",
        "                        labels=list(range(0,10)), \n",
        "                        target_names=classes, \n",
        "                        output_dict=True\n",
        "                        )\n",
        "\n",
        "    with open(f'performance_report_{dataset}.json', 'w') as f:\n",
        "        json.dump(performance_report, f, indent=0)\n",
        "\n",
        "    overall_accuracy = accuracy_score(actual_classes, predicted_classes)\n",
        "\n",
        "    comparison_list = [['Actual', 'Predicted']]\n",
        "\n",
        "    for i in range(0,len(actual_classes)):\n",
        "        comparison_list.append([actual_classes[i], predicted_classes[i]])\n",
        "    np.savetxt(f'class_pred_{dataset}.csv', comparison_list, delimiter=',', fmt='%s')\n",
        "    \n",
        "    labeled_actual = []\n",
        "    labeled_predicted = []\n",
        "    for index, item in enumerate(actual_classes):\n",
        "        labeled_actual.append(classes[actual_classes[index]])\n",
        "        labeled_predicted.append(classes[predicted_classes[index]])\n",
        "        \n",
        "    plt.clf()\n",
        "    c_matrix = confusion_matrix(labeled_actual, labeled_predicted)\n",
        "    c_df = pd.DataFrame(c_matrix, index=classes, columns=classes)\n",
        "    plt.figure(figsize=(13,13))\n",
        "    sns.heatmap(c_df, annot=True, fmt='g')\n",
        "    plt.title('Confusion Matrix')\n",
        "    plt.ylabel('Actual Class')\n",
        "    plt.xlabel('Predicted Class')\n",
        "    plt.savefig(f'labeled_confusion_matrix_{dataset}.png', bbox_inches='tight')\n",
        "    plt.show()\n",
        "    \n",
        "    return overall_accuracy"
      ]
    },
    {
      "cell_type": "code",
      "execution_count": null,
      "id": "eee85ebc",
      "metadata": {
        "id": "eee85ebc"
      },
      "outputs": [],
      "source": [
        "def train_LogReg(config, checkpoint_dir=None):\n",
        "    xtrain = torch.load(f'{data_dir}train_extracted_features.pt',map_location=torch.device('cpu'))\n",
        "    ytrain = torch.load(f'{data_dir}train_extracted_labels.pt',map_location=torch.device('cpu'))\n",
        "    xtest = torch.load(f'{data_dir}val_extracted_features.pt',map_location=torch.device('cpu'))\n",
        "    ytest = torch.load(f'{data_dir}val_extracted_labels.pt',map_location=torch.device('cpu'))\n",
        "    \n",
        "#     For initial tuning:\n",
        "    model = LogisticRegression(C=config['C'], penalty='elasticnet', max_iter=config['max_iter'], solver='saga', l1_ratio=config['l1_ratio'])\n",
        "    model.fit(xtrain, ytrain)\n",
        "      \n",
        "    dump(model, f'model_{model_type}.joblib') \n",
        "            \n",
        "    train_acc =  model_eval(xtrain, ytrain, model, 'train')\n",
        "    val_acc = model_eval(xtest, ytest, model, 'val')\n",
        "    \n",
        "    tune.report(\n",
        "        train_ACC=train_acc,\n",
        "        val_ACC=val_acc,\n",
        "    )"
      ]
    },
    {
      "cell_type": "code",
      "execution_count": null,
      "id": "5cb407e1",
      "metadata": {
        "id": "5cb407e1"
      },
      "outputs": [],
      "source": [
        "def main(num_samples=15):\n",
        "    config = {\n",
        "        'C':tune.choice([1e-2, 1e-1, 1, 1e1, 1e2]),\n",
        "        'l1_ratio':tune.choice([0, 5e-1, 1]),\n",
        "        'max_iter':tune.choice([50, 100, 150])\n",
        "    }\n",
        "            \n",
        "    algo=TuneBOHB(metric='train_ACC', \n",
        "                  mode='max'\n",
        "                 )\n",
        "    \n",
        "    bohb = HyperBandForBOHB(time_attr=\"training_iteration\",\n",
        "                            metric=\"train_ACC\",\n",
        "                            mode=\"max\",\n",
        "                            max_t=1\n",
        "                           )\n",
        "        \n",
        "    result = tune.run(\n",
        "        tune.with_parameters(train_LogReg),\n",
        "        resources_per_trial={\"cpu\": 2, \"gpu\": 0},\n",
        "        config=config,\n",
        "        num_samples=num_samples,\n",
        "        scheduler=bohb,\n",
        "        search_alg=algo,\n",
        "        progress_reporter=tune.JupyterNotebookReporter(overwrite=True, print_intermediate_tables=True),\n",
        "        fail_fast=False, \n",
        "        local_dir=f'{tune_dir}tuning_data',\n",
        "        sync_config=tune.SyncConfig(\n",
        "        syncer=None  # Disable syncing\n",
        "        )\n",
        "    )\n",
        "    \n",
        "    result.results_df.to_csv(f'{tune_dir}results_df_{model_type}.csv')\n",
        "    return result\n",
        "# BOHB - https://arxiv.org/abs/1807.01774\n",
        "# https://docs.ray.io/en/latest/tune/api_docs/schedulers.html#tune-scheduler-bohb"
      ]
    },
    {
      "cell_type": "code",
      "execution_count": null,
      "id": "8cbfcbd9",
      "metadata": {
        "scrolled": true,
        "id": "8cbfcbd9",
        "outputId": "c2d8022e-a6bd-455f-c24c-4198c020c26f",
        "colab": {
          "base_uri": "https://localhost:8080/",
          "height": 631
        }
      },
      "outputs": [
        {
          "output_type": "display_data",
          "data": {
            "text/plain": [
              "<IPython.core.display.HTML object>"
            ],
            "text/html": [
              "== Status ==<br>Current time: 2022-07-22 04:22:14 (running for 01:29:39.19)<br>Memory usage on this node: 1.7/12.7 GiB<br>Using HyperBand: num_stopped=0 total_brackets=15\n",
              "Round #0:\n",
              "  Bracket(Max Size (n)=1, Milestone (r)=1, completed=100.0%): {TERMINATED: 1} \n",
              "Round #1:\n",
              "  Bracket(Max Size (n)=1, Milestone (r)=1, completed=100.0%): {TERMINATED: 1} \n",
              "Round #2:\n",
              "  Bracket(Max Size (n)=1, Milestone (r)=1, completed=100.0%): {TERMINATED: 1} \n",
              "Round #3:\n",
              "  Bracket(Max Size (n)=1, Milestone (r)=1, completed=100.0%): {TERMINATED: 1} \n",
              "Round #4:\n",
              "  Bracket(Max Size (n)=1, Milestone (r)=1, completed=100.0%): {TERMINATED: 1} \n",
              "Round #5:\n",
              "  Bracket(Max Size (n)=1, Milestone (r)=1, completed=100.0%): {TERMINATED: 1} \n",
              "Round #6:\n",
              "  Bracket(Max Size (n)=1, Milestone (r)=1, completed=100.0%): {TERMINATED: 1} \n",
              "Round #7:\n",
              "  Bracket(Max Size (n)=1, Milestone (r)=1, completed=100.0%): {TERMINATED: 1} \n",
              "Round #8:\n",
              "  Bracket(Max Size (n)=1, Milestone (r)=1, completed=100.0%): {TERMINATED: 1} \n",
              "Round #9:\n",
              "  Bracket(Max Size (n)=1, Milestone (r)=1, completed=100.0%): {TERMINATED: 1} \n",
              "Round #10:\n",
              "  Bracket(Max Size (n)=1, Milestone (r)=1, completed=100.0%): {TERMINATED: 1} \n",
              "Round #11:\n",
              "  Bracket(Max Size (n)=1, Milestone (r)=1, completed=100.0%): {TERMINATED: 1} \n",
              "Round #12:\n",
              "  Bracket(Max Size (n)=1, Milestone (r)=1, completed=100.0%): {TERMINATED: 1} \n",
              "Round #13:\n",
              "  Bracket(Max Size (n)=1, Milestone (r)=1, completed=100.0%): {TERMINATED: 1} \n",
              "Round #14:\n",
              "  Bracket(Max Size (n)=1, Milestone (r)=1, completed=100.0%): {TERMINATED: 1} <br>Resources requested: 0/2 CPUs, 0/0 GPUs, 0.0/7.33 GiB heap, 0.0/3.67 GiB objects<br>Result logdir: /content/drive/My Drive/ECE9039-Project/Code/Tune-Train/tuning_data/train_LogReg_2022-07-22_02-52-34<br>Number of trials: 15/15 (15 TERMINATED)<br><table>\n",
              "<thead>\n",
              "<tr><th>Trial name           </th><th>status    </th><th>loc            </th><th style=\"text-align: right;\">     C</th><th style=\"text-align: right;\">  l1_ratio</th><th style=\"text-align: right;\">  max_iter</th><th style=\"text-align: right;\">  iter</th><th style=\"text-align: right;\">  total time (s)</th><th style=\"text-align: right;\">  train_ACC</th><th style=\"text-align: right;\">  val_ACC</th></tr>\n",
              "</thead>\n",
              "<tbody>\n",
              "<tr><td>train_LogReg_56b8b8d6</td><td>TERMINATED</td><td>172.28.0.2:1244</td><td style=\"text-align: right;\">100   </td><td style=\"text-align: right;\">       0  </td><td style=\"text-align: right;\">       100</td><td style=\"text-align: right;\">     1</td><td style=\"text-align: right;\">        235.637 </td><td style=\"text-align: right;\">   1       </td><td style=\"text-align: right;\">   0.9994</td></tr>\n",
              "<tr><td>train_LogReg_58f6c156</td><td>TERMINATED</td><td>172.28.0.2:1244</td><td style=\"text-align: right;\"> 10   </td><td style=\"text-align: right;\">       0.5</td><td style=\"text-align: right;\">       150</td><td style=\"text-align: right;\">     1</td><td style=\"text-align: right;\">        982.237 </td><td style=\"text-align: right;\">   1       </td><td style=\"text-align: right;\">   0.9996</td></tr>\n",
              "<tr><td>train_LogReg_e573c642</td><td>TERMINATED</td><td>172.28.0.2:1244</td><td style=\"text-align: right;\">  1   </td><td style=\"text-align: right;\">       0  </td><td style=\"text-align: right;\">        50</td><td style=\"text-align: right;\">     1</td><td style=\"text-align: right;\">        121.192 </td><td style=\"text-align: right;\">   1       </td><td style=\"text-align: right;\">   0.9994</td></tr>\n",
              "<tr><td>train_LogReg_2eedf1a6</td><td>TERMINATED</td><td>172.28.0.2:1244</td><td style=\"text-align: right;\">  1   </td><td style=\"text-align: right;\">       1  </td><td style=\"text-align: right;\">       150</td><td style=\"text-align: right;\">     1</td><td style=\"text-align: right;\">        566.45  </td><td style=\"text-align: right;\">   0.999889</td><td style=\"text-align: right;\">   0.9996</td></tr>\n",
              "<tr><td>train_LogReg_7735e824</td><td>TERMINATED</td><td>172.28.0.2:1244</td><td style=\"text-align: right;\"> 10   </td><td style=\"text-align: right;\">       0.5</td><td style=\"text-align: right;\">        50</td><td style=\"text-align: right;\">     1</td><td style=\"text-align: right;\">        347.994 </td><td style=\"text-align: right;\">   1       </td><td style=\"text-align: right;\">   0.9994</td></tr>\n",
              "<tr><td>train_LogReg_c8ddb476</td><td>TERMINATED</td><td>172.28.0.2:1244</td><td style=\"text-align: right;\">  0.01</td><td style=\"text-align: right;\">       0  </td><td style=\"text-align: right;\">       100</td><td style=\"text-align: right;\">     1</td><td style=\"text-align: right;\">        212.953 </td><td style=\"text-align: right;\">   0.998822</td><td style=\"text-align: right;\">   0.9998</td></tr>\n",
              "<tr><td>train_LogReg_984e7c54</td><td>TERMINATED</td><td>172.28.0.2:1244</td><td style=\"text-align: right;\">  0.01</td><td style=\"text-align: right;\">       1  </td><td style=\"text-align: right;\">        50</td><td style=\"text-align: right;\">     1</td><td style=\"text-align: right;\">         77.7567</td><td style=\"text-align: right;\">   0.994022</td><td style=\"text-align: right;\">   0.9968</td></tr>\n",
              "<tr><td>train_LogReg_173f94c6</td><td>TERMINATED</td><td>172.28.0.2:1244</td><td style=\"text-align: right;\">  0.1 </td><td style=\"text-align: right;\">       0.5</td><td style=\"text-align: right;\">        50</td><td style=\"text-align: right;\">     1</td><td style=\"text-align: right;\">        189.681 </td><td style=\"text-align: right;\">   0.998689</td><td style=\"text-align: right;\">   0.9996</td></tr>\n",
              "<tr><td>train_LogReg_459e141e</td><td>TERMINATED</td><td>172.28.0.2:1244</td><td style=\"text-align: right;\">100   </td><td style=\"text-align: right;\">       0.5</td><td style=\"text-align: right;\">       150</td><td style=\"text-align: right;\">     1</td><td style=\"text-align: right;\">        933.067 </td><td style=\"text-align: right;\">   1       </td><td style=\"text-align: right;\">   0.9994</td></tr>\n",
              "<tr><td>train_LogReg_b6b24dbe</td><td>TERMINATED</td><td>172.28.0.2:1244</td><td style=\"text-align: right;\">  1   </td><td style=\"text-align: right;\">       0  </td><td style=\"text-align: right;\">       150</td><td style=\"text-align: right;\">     1</td><td style=\"text-align: right;\">        356.158 </td><td style=\"text-align: right;\">   1       </td><td style=\"text-align: right;\">   0.9996</td></tr>\n",
              "<tr><td>train_LogReg_e2de7640</td><td>TERMINATED</td><td>172.28.0.2:1244</td><td style=\"text-align: right;\"> 10   </td><td style=\"text-align: right;\">       1  </td><td style=\"text-align: right;\">        50</td><td style=\"text-align: right;\">     1</td><td style=\"text-align: right;\">        346.727 </td><td style=\"text-align: right;\">   1       </td><td style=\"text-align: right;\">   0.9994</td></tr>\n",
              "<tr><td>train_LogReg_b72b792a</td><td>TERMINATED</td><td>172.28.0.2:1244</td><td style=\"text-align: right;\">  0.01</td><td style=\"text-align: right;\">       0  </td><td style=\"text-align: right;\">        50</td><td style=\"text-align: right;\">     1</td><td style=\"text-align: right;\">        122.242 </td><td style=\"text-align: right;\">   0.998822</td><td style=\"text-align: right;\">   0.9998</td></tr>\n",
              "<tr><td>train_LogReg_85db5150</td><td>TERMINATED</td><td>172.28.0.2:1244</td><td style=\"text-align: right;\">  1   </td><td style=\"text-align: right;\">       0  </td><td style=\"text-align: right;\">        50</td><td style=\"text-align: right;\">     1</td><td style=\"text-align: right;\">        122.183 </td><td style=\"text-align: right;\">   1       </td><td style=\"text-align: right;\">   0.9994</td></tr>\n",
              "<tr><td>train_LogReg_cebfe2be</td><td>TERMINATED</td><td>172.28.0.2:1244</td><td style=\"text-align: right;\">  0.1 </td><td style=\"text-align: right;\">       0.5</td><td style=\"text-align: right;\">       100</td><td style=\"text-align: right;\">     1</td><td style=\"text-align: right;\">        356.859 </td><td style=\"text-align: right;\">   0.998689</td><td style=\"text-align: right;\">   0.9996</td></tr>\n",
              "<tr><td>train_LogReg_1797ddac</td><td>TERMINATED</td><td>172.28.0.2:1244</td><td style=\"text-align: right;\">  1   </td><td style=\"text-align: right;\">       1  </td><td style=\"text-align: right;\">       100</td><td style=\"text-align: right;\">     1</td><td style=\"text-align: right;\">        403.651 </td><td style=\"text-align: right;\">   0.999867</td><td style=\"text-align: right;\">   0.9996</td></tr>\n",
              "</tbody>\n",
              "</table><br><br>"
            ]
          },
          "metadata": {}
        },
        {
          "output_type": "stream",
          "name": "stderr",
          "text": [
            "2022-07-22 04:22:14,265\tINFO tune.py:748 -- Total run time: 5379.34 seconds (5379.09 seconds for the tuning loop).\n"
          ]
        }
      ],
      "source": [
        "result_lr = main()"
      ]
    },
    {
      "cell_type": "markdown",
      "id": "b5f952ae",
      "metadata": {
        "id": "b5f952ae"
      },
      "source": [
        "BOHB Example: https://docs.ray.io/en/latest/tune/examples/includes/bohb_example.html"
      ]
    }
  ],
  "metadata": {
    "kernelspec": {
      "display_name": "Python 3 (ipykernel)",
      "language": "python",
      "name": "python3"
    },
    "language_info": {
      "codemirror_mode": {
        "name": "ipython",
        "version": 3
      },
      "file_extension": ".py",
      "mimetype": "text/x-python",
      "name": "python",
      "nbconvert_exporter": "python",
      "pygments_lexer": "ipython3",
      "version": "3.9.7"
    },
    "colab": {
      "name": "LogReg-Tuning.ipynb",
      "provenance": [],
      "collapsed_sections": []
    }
  },
  "nbformat": 4,
  "nbformat_minor": 5
}